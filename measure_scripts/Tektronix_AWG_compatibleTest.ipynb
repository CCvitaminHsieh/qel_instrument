{
 "cells": [
  {
   "cell_type": "code",
   "execution_count": 1,
   "id": "5600fa47",
   "metadata": {},
   "outputs": [],
   "source": [
    "import sys\n",
    "import numpy as np\n",
    "sys.path.append('../')\n",
    "from time import sleep\n",
    "from quantum_compiler import shape_functionV4 as sf\n",
    "from quantum_compiler.WavetoolsV6 import Wave\n",
    "from instruments.core.jsonIO import jsonFormat\n",
    "from instruments.drivers.Tektronix.Tektronix_AWG import AWG5208"
   ]
  },
  {
   "cell_type": "code",
   "execution_count": 2,
   "id": "5d075ca3",
   "metadata": {},
   "outputs": [
    {
     "name": "stdout",
     "output_type": "stream",
     "text": [
      "Connect Instrument:\n",
      "instrument: AWG5208\n",
      "statement: TEKTRONIX,AWG5208,B030597,FV:6.6.0131.0\n"
     ]
    }
   ],
   "source": [
    "# connect to AWG\n",
    "awg = AWG5208(\n",
    "    inst_name='AWG5208',\n",
    "    inst_address='TCPIP0::192.168.10.42::inst0::INSTR')\n",
    "\n",
    "# help(awg)\n",
    "\n",
    "# set sampling rate and reference clock\n",
    "awg.set_sample_rate(sample_rate=1.0E9)\n",
    "awg.set_extref_source(ref_freq=10E6)"
   ]
  },
  {
   "cell_type": "code",
   "execution_count": 3,
   "id": "15f4b508",
   "metadata": {},
   "outputs": [],
   "source": [
    "# awg.save_inst_cfg()"
   ]
  },
  {
   "cell_type": "code",
   "execution_count": 4,
   "id": "477a1679",
   "metadata": {},
   "outputs": [],
   "source": [
    "sample_rate=1.0E9\n",
    "x_span=5e-6\n",
    "start=1e-6\n",
    "flat=0.4e-6\n",
    "time_range = np.linspace(0, 500e-9, 51)\n",
    "IQList = ['ch1', 'ch2']\n",
    "\n",
    "\n",
    "marker = ~Wave(sf.square, [sf.get_x(x_span, sample_rate), 0.1e-6, 0.1e-6])\n",
    "square2 = ~Wave(sf.gaussian_square, [sf.get_x(x_span, sample_rate), start, flat, 10e-9])\n",
    "\n",
    "# clear, set, and upload\n",
    "awg.clr_wfm()\n",
    "for time in time_range:\n",
    "    square = ~Wave(sf.gaussian_square, [sf.get_x(x_span, sample_rate), start-time, time, 10e-9])\n",
    "\n",
    "    awg.set_wfm(wfm_name=f'{IQList[0]}_{time}',\n",
    "            wfm=(square).y,\n",
    "            mkr1=(marker).y,\n",
    "            mkr2=(marker).y\n",
    "           )\n",
    "    awg.set_wfm(wfm_name=f'{IQList[1]}_{time}',\n",
    "        wfm=(square2).y\n",
    "       )\n",
    "awg.upload_wfm()"
   ]
  },
  {
   "cell_type": "code",
   "execution_count": 5,
   "id": "59a47402",
   "metadata": {},
   "outputs": [],
   "source": [
    "# assign waveform to corresponding sequence position one at a time\n",
    "seq_name='freq_mod_iq'\n",
    "trackList = IQList\n",
    "\n",
    "# clear, set, assign and upload\n",
    "awg.clr_seq()\n",
    "awg.set_seq(seq_name, num_track=len(trackList), num_step=len(time_range))\n",
    "for track_idx, track in enumerate(trackList):\n",
    "    for step_idx, time in enumerate(time_range):\n",
    "        awg.assign_seq(f'{track}_{time}', seq_name, track_idx+1, step_idx+1)\n",
    "awg.upload_seq(seq_name)"
   ]
  },
  {
   "cell_type": "code",
   "execution_count": 6,
   "id": "504f1d3b",
   "metadata": {},
   "outputs": [],
   "source": [
    "# assign waveforms/sequences to channels\n",
    "awg.assign_ch(1, 'freq_mod_iq', track_index=1)\n",
    "awg.assign_ch(2, 'freq_mod_iq', track_index=2)\n",
    "awg.assign_ch(3, 'ch2_0.0', auto_output=False, auto_mkr=False)"
   ]
  },
  {
   "cell_type": "code",
   "execution_count": null,
   "id": "3d570c60",
   "metadata": {},
   "outputs": [],
   "source": []
  }
 ],
 "metadata": {
  "kernelspec": {
   "display_name": "Python 3",
   "language": "python",
   "name": "python3"
  },
  "language_info": {
   "codemirror_mode": {
    "name": "ipython",
    "version": 3
   },
   "file_extension": ".py",
   "mimetype": "text/x-python",
   "name": "python",
   "nbconvert_exporter": "python",
   "pygments_lexer": "ipython3",
   "version": "3.8.10"
  }
 },
 "nbformat": 4,
 "nbformat_minor": 5
}
