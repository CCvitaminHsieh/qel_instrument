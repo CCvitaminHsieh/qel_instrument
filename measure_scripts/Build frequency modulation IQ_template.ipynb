{
 "cells": [
  {
   "cell_type": "code",
   "execution_count": 1,
   "metadata": {},
   "outputs": [],
   "source": [
    "import sys\n",
    "import numpy as np\n",
    "sys.path.append('../')\n",
    "from time import sleep\n",
    "from quantum_compiler import shape_functionV4 as sf\n",
    "from quantum_compiler.WavetoolsV6 import Wave\n",
    "from instruments.core.jsonIO import jsonFormat\n",
    "from instruments.drivers.Tektronix.Tektronix_AWG import AWG5208"
   ]
  },
  {
   "cell_type": "code",
   "execution_count": 2,
   "metadata": {},
   "outputs": [
    {
     "name": "stdout",
     "output_type": "stream",
     "text": [
      "Connect Instrument:\n",
      "instrument: AWG5208\n",
      "statement: TEKTRONIX,AWG5208,B030597,FV:6.6.0131.0\n"
     ]
    }
   ],
   "source": [
    "# connect to AWG\n",
    "awg = AWG5208(\n",
    "    inst_name='AWG5208',\n",
    "    inst_address='TCPIP0::192.168.10.42::inst0::INSTR')\n",
    "\n",
    "# help(awg)\n",
    "\n",
    "# set sampling rate and reference clock\n",
    "awg.set_sample_rate(sample_rate=1.0E9)\n",
    "awg.set_extref_source(ref_freq=10E6)"
   ]
  },
  {
   "cell_type": "code",
   "execution_count": 3,
   "metadata": {},
   "outputs": [],
   "source": [
    "# assign waveforms\n",
    "sample_rate=1.0E9\n",
    "x_span = 10e-6\n",
    "freq_start = 1e6\n",
    "freq_stop = 25e6\n",
    "num_cases = 5\n",
    "freq_range = np.linspace(freq_start, freq_stop, num_cases)\n",
    "IQList = ['I', 'Q']\n",
    "\n",
    "const_zero = ~Wave(sf.const, [sf.get_x(10e-6, sample_rate),False])\n",
    "marker = const_zero + ~Wave(sf.square, [sf.get_x(x_span, sample_rate), 2e-6, 100e-9]) + const_zero\n",
    "\n",
    "# clear, set, and upload\n",
    "awg.clr_wfm()\n",
    "for freq in freq_range:\n",
    "    awg.set_wfm(wfm_name=f'{IQList[0]}_{freq}',\n",
    "            wfm=(const_zero + ~Wave(sf.cosine2, [sf.get_x(x_span, sample_rate), freq]) + const_zero).y,\n",
    "            mkr1=(marker).y,\n",
    "            mkr2=(marker).y\n",
    "           )\n",
    "    awg.set_wfm(wfm_name=f'{IQList[1]}_{freq}',\n",
    "        wfm=(const_zero + ~Wave(sf.sine2, [sf.get_x(x_span, sample_rate), freq]) + const_zero).y\n",
    "       )\n",
    "awg.upload_wfm()"
   ]
  },
  {
   "cell_type": "code",
   "execution_count": 4,
   "metadata": {},
   "outputs": [],
   "source": [
    "# assign waveform to corresponding sequence position one at a time\n",
    "seq_name='freq_mod_iq'\n",
    "trackList = IQList\n",
    "\n",
    "# clear, set, assign and upload\n",
    "awg.clr_seq()\n",
    "awg.set_seq(seq_name, num_track=len(trackList), num_step=num_cases)\n",
    "for track_idx, track in enumerate(trackList):\n",
    "    for step_idx, freq in enumerate(freq_range):\n",
    "        awg.assign_seq(f'{track}_{freq}', seq_name, track_idx+1, step_idx+1)\n",
    "awg.upload_seq(seq_name)"
   ]
  },
  {
   "cell_type": "code",
   "execution_count": 5,
   "metadata": {},
   "outputs": [],
   "source": [
    "# assign waveforms/sequences to channels\n",
    "awg.assign_ch(1, 'freq_mod_iq', track_index=1)\n",
    "awg.assign_ch(2, 'freq_mod_iq', track_index=2)\n",
    "awg.assign_ch(3, 'Q_1000000.0', auto_output=False, auto_mkr=False)"
   ]
  },
  {
   "cell_type": "code",
   "execution_count": 6,
   "metadata": {},
   "outputs": [],
   "source": [
    "# set channel amplitudes\n",
    "awg.set_ch_amp(ch=1, wfm_Vpp=1.0, wfm_offset=0., mkr1=1.0, mkr2=1.0, mkr3=1.0, mkr4=1.0)\n",
    "awg.set_ch_amp(ch=2, wfm_Vpp=1.0, wfm_offset=0., mkr1=1.0, mkr2=1.0, mkr3=1.0, mkr4=1.0)"
   ]
  },
  {
   "cell_type": "code",
   "execution_count": 7,
   "metadata": {},
   "outputs": [
    {
     "name": "stdout",
     "output_type": "stream",
     "text": [
      "AWG5208 @ TCPIP0::192.168.10.42::inst0::INSTR\n",
      "---\n",
      "Waveform list: dict_keys(['I_1000000.0', 'Q_1000000.0', 'I_7000000.0', 'Q_7000000.0', 'I_13000000.0', 'Q_13000000.0', 'I_19000000.0', 'Q_19000000.0', 'I_25000000.0', 'Q_25000000.0'])\n",
      "Sequence list: dict_keys(['freq_mod_iq'])\n",
      "AWG Error state: 0,\"No error\"\n"
     ]
    }
   ],
   "source": [
    "print(awg)\n",
    "# del awg"
   ]
  },
  {
   "cell_type": "code",
   "execution_count": null,
   "metadata": {},
   "outputs": [],
   "source": []
  }
 ],
 "metadata": {
  "kernelspec": {
   "display_name": "Python 3",
   "language": "python",
   "name": "python3"
  },
  "language_info": {
   "codemirror_mode": {
    "name": "ipython",
    "version": 3
   },
   "file_extension": ".py",
   "mimetype": "text/x-python",
   "name": "python",
   "nbconvert_exporter": "python",
   "pygments_lexer": "ipython3",
   "version": "3.8.10"
  }
 },
 "nbformat": 4,
 "nbformat_minor": 4
}
