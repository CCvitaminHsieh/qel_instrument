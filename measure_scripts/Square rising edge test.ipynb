{
 "cells": [
  {
   "cell_type": "code",
   "execution_count": 1,
   "metadata": {},
   "outputs": [],
   "source": [
    "import sys\n",
    "import numpy as np\n",
    "sys.path.append('../')\n",
    "from time import sleep\n",
    "from quantum_compiler import shape_functionV4 as sf\n",
    "from quantum_compiler.WavetoolsV6 import Wave\n",
    "from instruments.core.jsonIO import jsonFormat\n",
    "from instruments.drivers.Tektronix.Tektronix_AWG import AWG5208"
   ]
  },
  {
   "cell_type": "code",
   "execution_count": 2,
   "metadata": {},
   "outputs": [
    {
     "name": "stdout",
     "output_type": "stream",
     "text": [
      "Connect Instrument:\n",
      "instrument: AWG5208\n",
      "statement: TEKTRONIX,AWG5208,B030597,FV:6.6.0131.0\n"
     ]
    }
   ],
   "source": [
    "# connect to AWG\n",
    "awg = AWG5208(\n",
    "    inst_name='AWG5208',\n",
    "    inst_address='TCPIP0::192.168.10.42::inst0::INSTR')\n",
    "\n",
    "# help(awg)\n",
    "\n",
    "# set sampling rate and reference clock\n",
    "awg.set_sample_rate(sample_rate=1.0E9)\n",
    "awg.set_extref_source(ref_freq=10E6)"
   ]
  },
  {
   "cell_type": "code",
   "execution_count": 3,
   "metadata": {
    "scrolled": false
   },
   "outputs": [
    {
     "name": "stdout",
     "output_type": "stream",
     "text": [
      "plot size=[6.4,4.8]\n"
     ]
    },
    {
     "data": {
      "image/png": "[encoded data removed]",
      "text/plain": [
       "<Figure size 460.8x345.6 with 1 Axes>"
      ]
     },
     "metadata": {
      "needs_background": "light"
     },
     "output_type": "display_data"
    },
    {
     "name": "stdout",
     "output_type": "stream",
     "text": [
      "plot size=[6.4,4.8]\n"
     ]
    },
    {
     "data": {
      "image/png": "[encoded data removed]",
      "text/plain": [
       "<Figure size 460.8x345.6 with 1 Axes>"
      ]
     },
     "metadata": {
      "needs_background": "light"
     },
     "output_type": "display_data"
    }
   ],
   "source": [
    "# assign waveforms\n",
    "awg.clr_wfm()\n",
    "\n",
    "IQList = ['I', 'Q', 'Flux', 'Trigger']\n",
    "sampling_rate=1.0E9\n",
    "x_span=5e-6\n",
    "start=1e-6\n",
    "flat=1e-6\n",
    "\n",
    "marker = ~Wave(sf.square, [sf.get_x(x_span, sampling_rate), 0.1e-6, 0.1e-6])\n",
    "square = ~Wave(sf.gaussian_square, [sf.get_x(x_span, sampling_rate), start, flat, 10e-9])\n",
    "awg.set_wfm(wfm_name=f'{IQList[0]}',\n",
    "            wfm=square.y,\n",
    "#             wfm = constant.y,\n",
    "            mkr1=marker.y,\n",
    "#             mkr4=marker.y\n",
    "           )\n",
    "\n",
    "\n",
    "marker.plot()\n",
    "square.plot()\n",
    "awg.upload_wfm()"
   ]
  },
  {
   "cell_type": "code",
   "execution_count": 4,
   "metadata": {},
   "outputs": [],
   "source": [
    "# assign waveform to corresponding sequence position one at a time\n",
    "seq_name='freq_mod_iq'\n",
    "trackList = IQList\n",
    "\n",
    "# clear, set, assign and upload\n",
    "awg.clr_seq()\n",
    "# awg.set_seq(seq_name, num_track=len(trackList), num_step=len(pwr_range))\n",
    "\n",
    "# for track_idx, track in enumerate(trackList):\n",
    "#     for step_idx, amp in enumerate(pwr_range):\n",
    "#         awg.assign_seq(f'{track}_{amp}', seq_name, track_idx+1, step_idx+1)\n",
    "# awg.upload_seq(seq_name)"
   ]
  },
  {
   "cell_type": "code",
   "execution_count": 5,
   "metadata": {},
   "outputs": [],
   "source": [
    "# assign waveforms/sequences to channels\n",
    "awg.assign_ch(1, f'{IQList[0]}')\n",
    "# awg.assign_ch(2, 'Q')\n",
    "# awg.assign_ch(3, 'freq_mod_iq')\n",
    "# awg.assign_ch(4, 'freq_mod_iq',auto_output=False, auto_mkr=False)"
   ]
  },
  {
   "cell_type": "code",
   "execution_count": 6,
   "metadata": {},
   "outputs": [],
   "source": [
    "# set channel amplitudes\n",
    "awg.set_ch_amp(ch=1, wfm_Vpp=1.0, wfm_offset=0., mkr1=1.0, mkr2=1.0, mkr3=1.0, mkr4=1.0)\n",
    "# awg.set_ch_amp(ch=2, wfm_Vpp=1.0, wfm_offset=0., mkr1=1.0, mkr2=1.0, mkr3=1.0, mkr4=1.0)\n",
    "# awg.set_ch_amp(ch=3, wfm_Vpp=1.5, wfm_offset=0., mkr1=1.0, mkr2=1.0, mkr3=1.0, mkr4=1.0)\n",
    "# awg.set_ch_amp(ch=4, wfm_Vpp=1.5, wfm_offset=0., mkr1=1.0, mkr2=1.0, mkr3=1.0, mkr4=1.0)"
   ]
  },
  {
   "cell_type": "code",
   "execution_count": 7,
   "metadata": {},
   "outputs": [
    {
     "name": "stdout",
     "output_type": "stream",
     "text": [
      "AWG5208 @ TCPIP0::192.168.10.42::inst0::INSTR\n",
      "---\n",
      "Waveform list: dict_keys(['I'])\n",
      "Sequence list: dict_keys([])\n",
      "AWG Error state: 0,\"No error\"\n"
     ]
    }
   ],
   "source": [
    "print(awg)\n",
    "# del awg"
   ]
  },
  {
   "cell_type": "code",
   "execution_count": 8,
   "metadata": {},
   "outputs": [
    {
     "data": {
      "text/plain": [
       "5000"
      ]
     },
     "execution_count": 8,
     "metadata": {},
     "output_type": "execute_result"
    }
   ],
   "source": [
    "len(square)"
   ]
  },
  {
   "cell_type": "code",
   "execution_count": null,
   "metadata": {},
   "outputs": [],
   "source": []
  }
 ],
 "metadata": {
  "kernelspec": {
   "display_name": "Python 3",
   "language": "python",
   "name": "python3"
  },
  "language_info": {
   "codemirror_mode": {
    "name": "ipython",
    "version": 3
   },
   "file_extension": ".py",
   "mimetype": "text/x-python",
   "name": "python",
   "nbconvert_exporter": "python",
   "pygments_lexer": "ipython3",
   "version": "3.8.10"
  }
 },
 "nbformat": 4,
 "nbformat_minor": 4
}
