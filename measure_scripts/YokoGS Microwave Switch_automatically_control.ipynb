{
 "cells": [
  {
   "cell_type": "code",
   "execution_count": 1,
   "id": "1400fe30",
   "metadata": {},
   "outputs": [],
   "source": [
    "import sys\n",
    "sys.path.append('../')\n",
    "from time import sleep\n",
    "from instruments.core.jsonIO import jsonFormat\n",
    "from instruments.drivers.Yokogawa.YokoGS import YokoGS200"
   ]
  },
  {
   "cell_type": "code",
   "execution_count": 2,
   "id": "a4751d5a",
   "metadata": {},
   "outputs": [
    {
     "name": "stdout",
     "output_type": "stream",
     "text": [
      "Import recipt.\n",
      "Connect Instrument:\n",
      "instrument: \n",
      "statement: YOKOGAWA,GS210,91WB18861,2.02\n",
      "{\n",
      "    \"name\": \"YokoGS\",\n",
      "    \"inst_connect\": true,\n",
      "    \"interface\": \"USB0\",\n",
      "    \"address\": \"USB0::0x0B21::0x0039::91WB18861::INSTR\",\n",
      "    \"r_terminate\": \"\\n\",\n",
      "    \"w_terminate\": null,\n",
      "    \"timeout\": 5,\n",
      "    \"extension\": {\n",
      "        \"set_dc_mode\": {\n",
      "            \"dc_mode\": \"VOLTAGE\"\n",
      "        },\n",
      "        \"set_dc_output\": {\n",
      "            \"dc_output\": 1\n",
      "        },\n",
      "        \"set_range_limit\": {\n",
      "            \"dc_range_limit\": \"1 V\"\n",
      "        },\n",
      "        \"execute_microwave_switch\": {\n",
      "            \"sweep_time\": 0.2,\n",
      "            \"interval_time\": 1.5,\n",
      "            \"init_lower\": 0.0,\n",
      "            \"init_higher\": -0.65\n",
      "        }\n",
      "    }\n",
      "}\n"
     ]
    }
   ],
   "source": [
    "yokogs = YokoGS200()\n",
    "print(jsonFormat(yokogs.get_properties))"
   ]
  },
  {
   "cell_type": "code",
   "execution_count": 3,
   "id": "c7206534",
   "metadata": {},
   "outputs": [
    {
     "name": "stdout",
     "output_type": "stream",
     "text": [
      "set_dc_mode ... done.\n",
      "set_dc_output ... done.\n",
      "\n",
      "rangeMode: \"1 V\"\n",
      "Setting successfully!\n",
      "set_range_limit ... done.\n",
      "\n",
      "Start microwaveSwitch.\n",
      "Finish microwaveSwitch.\n",
      "execute_microwave_switch ... done.\n"
     ]
    }
   ],
   "source": [
    "yokogs.auto_run_inst_extension()"
   ]
  },
  {
   "cell_type": "code",
   "execution_count": null,
   "id": "7eedfa8a",
   "metadata": {},
   "outputs": [],
   "source": []
  }
 ],
 "metadata": {
  "kernelspec": {
   "display_name": "Python 3",
   "language": "python",
   "name": "python3"
  },
  "language_info": {
   "codemirror_mode": {
    "name": "ipython",
    "version": 3
   },
   "file_extension": ".py",
   "mimetype": "text/x-python",
   "name": "python",
   "nbconvert_exporter": "python",
   "pygments_lexer": "ipython3",
   "version": "3.8.8"
  }
 },
 "nbformat": 4,
 "nbformat_minor": 5
}
