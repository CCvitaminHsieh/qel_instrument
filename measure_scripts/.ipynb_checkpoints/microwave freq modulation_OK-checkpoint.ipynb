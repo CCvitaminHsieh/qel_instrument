{
 "cells": [
  {
   "cell_type": "code",
   "execution_count": 1,
   "metadata": {},
   "outputs": [],
   "source": [
    "import sys\n",
    "import numpy as np\n",
    "sys.path.append('../')\n",
    "from time import sleep\n",
    "from quantum_compiler import shape_functionV4 as sf\n",
    "from quantum_compiler.WavetoolsV6 import Wave\n",
    "from instruments.core.jsonIO import jsonFormat\n",
    "from instruments.drivers.Tektronix.Tektronix_AWG import AWG5208"
   ]
  },
  {
   "cell_type": "code",
   "execution_count": 2,
   "metadata": {
    "scrolled": false
   },
   "outputs": [
    {
     "name": "stdout",
     "output_type": "stream",
     "text": [
      "Connect Instrument:\n",
      "instrument: AWG5208\n",
      "statement: TEKTRONIX,AWG5208,B030597,FV:6.6.0131.0\n"
     ]
    }
   ],
   "source": [
    "# connect to AWG\n",
    "awg = AWG5208(\n",
    "    inst_name='AWG5208',\n",
    "    inst_address='TCPIP0::192.168.10.42::inst0::INSTR')\n",
    "\n",
    "# help(awg)\n",
    "\n",
    "# set sampling rate and reference clock\n",
    "awg.set_sample_rate(sample_rate=1.0E9)\n",
    "awg.set_extref_source(ref_freq=10E6)"
   ]
  },
  {
   "cell_type": "code",
   "execution_count": 3,
   "metadata": {},
   "outputs": [
    {
     "data": {
      "text/plain": [
       "array([      0., 2500000., 5000000., 7500000.])"
      ]
     },
     "execution_count": 3,
     "metadata": {},
     "output_type": "execute_result"
    }
   ],
   "source": [
    "# # assign waveforms\n",
    "# import shape_functionV4 as sf\n",
    "# from WavetoolsV6 import Wave\n",
    "\n",
    "# freq = 20e6 #delta freq\n",
    "# duration = 1\n",
    "# f_mod = 0.05e6 #modulation freq\n",
    "# phase = 0.5*np.pi #phase difference\n",
    "# time_p = phase/f_mod/(2*np.pi)\n",
    "# offset = 10e-6\n",
    "# marker_length = 1e-6\n",
    "# x_span = 1/f_mod/2\n",
    "\n",
    "\n",
    "# a = Wave(sf.const, [sf.get_x(offset, sampling_rate), False]) #constant wave\n",
    "# b = Wave(sf.sine2, [sf.get_x(x_span, sampling_rate), freq]) #sine wave\n",
    "# c = Wave(sf.cosine2, [sf.get_x(x_span, sampling_rate), freq]) #consine wave\n",
    "# d = Wave(sf.const, [sf.get_x(x_span, sampling_rate), True]) #flux\n",
    "# e = Wave(sf.const, [sf.get_x(time_p, sampling_rate), False]) #phase\n",
    "\n",
    "# I = ~a + ~e + (~c + ~c)*duration + ~a\n",
    "# Q = ~a + ~e + (~(b) + ~(-1*b))*duration + ~a\n",
    "# Flux = ~a + (~(d) + ~(-1*d))*duration + ~a\n",
    "# marker = ~(Wave(sf.square, [Flux.x, 8e-6, marker_length]))\n",
    "# zeros = ~(Wave(sf.const, [I.x, False]))\n",
    "\n",
    "# print(len(I))\n",
    "# print(len(Flux))\n",
    "# Flux.plot()\n",
    "# gate = ~I / ~Q / ~Flux / ~marker / ~zeros \n",
    "# # gate.set_wire_names(['I', 'Q', 'Flux' , 'Marker', 'zeros'])\n",
    "# gate.plot(size=[20,3])\n",
    "# print(len(gate.y[0]), len(gate.y[1]), len(gate.y[2]), len(gate.y[3]), len(gate.y[4]))\n",
    "# awg.clr_wfm()\n",
    "# IQList = ['I', 'Q']\n",
    "# awg.set_wfm(wfm_name=f'{IQList[0]}',\n",
    "#             wfm=Flux.y,\n",
    "#             mkr1=(marker).y\n",
    "#            )\n",
    "# awg.set_wfm(wfm_name=f'{IQList[1]}',\n",
    "#             wfm=Flux.y\n",
    "#            )\n",
    "# awg.upload_wfm\n",
    "np.linspace(0, 7.5e6, 4)"
   ]
  },
  {
   "cell_type": "code",
   "execution_count": 4,
   "metadata": {},
   "outputs": [],
   "source": [
    "# assign waveforms\n",
    "x_span = 1e-6\n",
    "freq_start = 0\n",
    "freq_stop = 7.5e6\n",
    "num_cases = 4\n",
    "sampling_rate=1.0E9\n",
    "freq_range = np.linspace(freq_start, freq_stop, num_cases)\n",
    "IQList = ['I', 'Q', 'Flux']\n",
    "\n",
    "const_head = ~Wave(sf.const, [sf.get_x(10e-6, sampling_rate),False])\n",
    "const_tail = ~Wave(sf.const, [sf.get_x(10e-6, sampling_rate),False])\n",
    "marker = ~Wave(sf.square, [sf.get_x(x_span, sampling_rate), 0.1e-6, 0.1e-6])\n",
    "\n",
    "# clear, set, and upload\n",
    "awg.clr_wfm()\n",
    "for freq in freq_range:\n",
    "    c = ~Wave(sf.cosine2, [sf.get_x(x_span, sampling_rate), freq])\n",
    "    s1 = ~Wave(sf.sine2, [sf.get_x(x_span, sampling_rate), freq])\n",
    "    s2 = ~(-1 * Wave(sf.sine2, [sf.get_x(x_span, sampling_rate), freq]))\n",
    "    flux = ~(Wave(sf.const, [sf.get_x(26e-6, sampling_rate), False]))\n",
    "    \n",
    "    awg.set_wfm(wfm_name=f'{IQList[0]}_{freq}',\n",
    "            wfm=(const_head + (2*c)*3 + const_tail).y,\n",
    "            mkr1=(marker).y\n",
    "           )\n",
    "    awg.set_wfm(wfm_name=f'{IQList[1]}_{freq}',\n",
    "            wfm=(const_head + (s1+s2)*3 + const_tail).y\n",
    "           )\n",
    "    awg.set_wfm(wfm_name=f'{IQList[2]}_{freq}',\n",
    "        wfm=flux.y\n",
    "       )\n",
    "awg.upload_wfm()"
   ]
  },
  {
   "cell_type": "code",
   "execution_count": 5,
   "metadata": {},
   "outputs": [],
   "source": [
    "# assign waveform to corresponding sequence position one at a time\n",
    "seq_name='freq_mod_iq'\n",
    "trackList = IQList\n",
    "\n",
    "# clear, set, assign and upload\n",
    "awg.clr_seq()\n",
    "awg.set_seq(seq_name, num_track=len(trackList), num_step=len(freq_range))\n",
    "#print(awg._seqList['freq_mod_iq'])\n",
    "for track_idx, track in enumerate(trackList):\n",
    "    for step_idx, freq in enumerate(freq_range):\n",
    "        awg.assign_seq(f'{track}_{freq}', seq_name, track_idx+1,step_idx+1)\n",
    "awg.upload_seq(seq_name)"
   ]
  },
  {
   "cell_type": "code",
   "execution_count": 6,
   "metadata": {},
   "outputs": [],
   "source": [
    "# assign waveforms/sequences to channels\n",
    "awg.assign_ch(1, 'freq_mod_iq', track_index=1)\n",
    "awg.assign_ch(2, 'freq_mod_iq', track_index=2)\n",
    "awg.assign_ch(3, 'freq_mod_iq', track_index=3)\n",
    "awg.assign_ch(4, 'freq_mod_iq', track_index=2, auto_output=False, auto_mkr=False)"
   ]
  },
  {
   "cell_type": "code",
   "execution_count": 7,
   "metadata": {},
   "outputs": [],
   "source": [
    "# set channel amplitudes\n",
    "awg.set_ch_amp(ch=1, wfm_Vpp=1.0, wfm_offset=0., mkr1=1.0, mkr2=1.0, mkr3=1.0, mkr4=1.0)\n",
    "awg.set_ch_amp(ch=2, wfm_Vpp=1.0, wfm_offset=0., mkr1=1.0, mkr2=1.0, mkr3=1.0, mkr4=1.0)\n",
    "awg.set_ch_amp(ch=3, wfm_Vpp=1.5, wfm_offset=0., mkr1=1.0, mkr2=1.0, mkr3=1.0, mkr4=1.0)\n",
    "awg.set_ch_amp(ch=4, wfm_Vpp=1.5, wfm_offset=0., mkr1=1.0, mkr2=1.0, mkr3=1.0, mkr4=1.0)"
   ]
  },
  {
   "cell_type": "code",
   "execution_count": 8,
   "metadata": {},
   "outputs": [
    {
     "name": "stdout",
     "output_type": "stream",
     "text": [
      "AWG5208 @ TCPIP0::192.168.10.42::inst0::INSTR\n",
      "---\n",
      "Waveform list: dict_keys(['I_0.0', 'Q_0.0', 'Flux_0.0', 'I_2500000.0', 'Q_2500000.0', 'Flux_2500000.0', 'I_5000000.0', 'Q_5000000.0', 'Flux_5000000.0', 'I_7500000.0', 'Q_7500000.0', 'Flux_7500000.0'])\n",
      "Sequence list: dict_keys(['freq_mod_iq'])\n",
      "AWG Error state: 0,\"No error\"\n"
     ]
    }
   ],
   "source": [
    "print(awg)\n",
    "#del awg"
   ]
  },
  {
   "cell_type": "code",
   "execution_count": null,
   "metadata": {},
   "outputs": [],
   "source": []
  },
  {
   "cell_type": "code",
   "execution_count": null,
   "metadata": {},
   "outputs": [],
   "source": []
  }
 ],
 "metadata": {
  "kernelspec": {
   "display_name": "Python 3",
   "language": "python",
   "name": "python3"
  },
  "language_info": {
   "codemirror_mode": {
    "name": "ipython",
    "version": 3
   },
   "file_extension": ".py",
   "mimetype": "text/x-python",
   "name": "python",
   "nbconvert_exporter": "python",
   "pygments_lexer": "ipython3",
   "version": "3.8.10"
  }
 },
 "nbformat": 4,
 "nbformat_minor": 4
}
