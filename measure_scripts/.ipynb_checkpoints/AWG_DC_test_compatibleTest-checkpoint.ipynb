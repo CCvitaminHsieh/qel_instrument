{
 "cells": [
  {
   "cell_type": "code",
   "execution_count": 1,
   "metadata": {},
   "outputs": [],
   "source": [
    "import sys\n",
    "# sys.path.append('../')\n",
    "from time import sleep\n",
    "from quantum_compiler import shape_functionV4 as sf\n",
    "from quantum_compiler.WavetoolsV6 import Wave\n",
    "from instruments.drivers.Tektronix.Tektronix_AWG import AWG5208"
   ]
  },
  {
   "cell_type": "code",
   "execution_count": null,
   "metadata": {
    "scrolled": false
   },
   "outputs": [],
   "source": [
    "freq = 10e6 #delta freq\n",
    "duration = 1\n",
    "f_mod = 0.05e6 #modulation freq\n",
    "phase = 0*np.pi #phase difference\n",
    "time_p = phase/f_mod/(2*np.pi)\n",
    "offset = 1e-6\n",
    "sampling_rate = 1e9\n",
    "marker_length = 1e-6\n",
    "x_span = 1/f_mod/2\n",
    "\n",
    "# a = Wave(sf.gaussian_square, [sf.get_x(5e-6, sampling_rate), 1e-6, 2e-6, 100e-9])\n",
    "a = Wave(sf.const, [sf.get_x(5e-6, sampling_rate), True])\n",
    "marker = Wave(sf.const, [sf.get_x(5e-6, sampling_rate), False])\n",
    "\n",
    "print(len(a))\n",
    "\n",
    "gate = ~~a / ~(~marker)\n",
    "gate.wire_names = ['voltage', 'marker']\n",
    "gate.plot()\n",
    "print(len(gate.y[0]), len(gate.y[1]))\n"
   ]
  },
  {
   "cell_type": "code",
   "execution_count": null,
   "metadata": {},
   "outputs": [],
   "source": [
    "# store into a dict\n",
    "\n",
    "properties_I = {'wfm_name':'IData', 'wfmData': gate.y[0],\n",
    "             'mkr_tone':'mkr1', 'mkrData': gate.y[1]}\n"
   ]
  },
  {
   "cell_type": "code",
   "execution_count": null,
   "metadata": {},
   "outputs": [],
   "source": [
    "inst_name = 'Tektronix_AWG5208'\n",
    "inst_address = 'TCPIP0::192.168.50.48::inst0::INSTR'\n",
    "timeout = 10\n",
    "Clean_Option = True\n",
    "sample_rate = 1E9\n",
    "ref_ext = 10E6\n",
    "\n",
    "# initialize AWG settings\n",
    "awgClient = Tektronix_AWG5208(inst_name, inst_address, timeout)\n",
    "awgClient.connect()\n",
    "awgClient.awg_stop()\n",
    "if Clean_Option:awgClient.del_wlist();awgClient.del_slist()\n",
    "awgClient.set_channel_mkr(1,0,0,0,0,0,0,0)\n",
    "awgClient.set_sample_rate(sample_rate)\n",
    "awgClient.set_extref_source(ref_ext)"
   ]
  },
  {
   "cell_type": "code",
   "execution_count": null,
   "metadata": {},
   "outputs": [],
   "source": [
    "awgClient.send_wfmData_withmkr2AWG(\n",
    "                properties_I['wfm_name'],\n",
    "                properties_I['wfmData'],\n",
    "                properties_I['mkrData'],\n",
    "                properties_I['mkr_tone'])\n",
    "awgClient.load_wfm_to_channel(1, properties_I['wfm_name'])"
   ]
  },
  {
   "cell_type": "code",
   "execution_count": null,
   "metadata": {},
   "outputs": [],
   "source": [
    "# disconnect the awg\n",
    "awgClient.disconnect()"
   ]
  },
  {
   "cell_type": "code",
   "execution_count": null,
   "metadata": {},
   "outputs": [],
   "source": []
  }
 ],
 "metadata": {
  "kernelspec": {
   "display_name": "Python 3",
   "language": "python",
   "name": "python3"
  },
  "language_info": {
   "codemirror_mode": {
    "name": "ipython",
    "version": 3
   },
   "file_extension": ".py",
   "mimetype": "text/x-python",
   "name": "python",
   "nbconvert_exporter": "python",
   "pygments_lexer": "ipython3",
   "version": "3.8.10"
  }
 },
 "nbformat": 4,
 "nbformat_minor": 4
}
