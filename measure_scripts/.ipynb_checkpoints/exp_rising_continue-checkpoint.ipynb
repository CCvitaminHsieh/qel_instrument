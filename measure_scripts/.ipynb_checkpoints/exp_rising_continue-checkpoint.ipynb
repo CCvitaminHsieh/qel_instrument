{
 "cells": [
  {
   "cell_type": "code",
   "execution_count": 64,
   "metadata": {},
   "outputs": [
    {
     "ename": "ModuleNotFoundError",
     "evalue": "No module named 'instruments'",
     "output_type": "error",
     "traceback": [
      "\u001b[1;31m---------------------------------------------------------------------------\u001b[0m",
      "\u001b[1;31mModuleNotFoundError\u001b[0m                       Traceback (most recent call last)",
      "\u001b[1;32m<ipython-input-64-b3c0829bdf01>\u001b[0m in \u001b[0;36m<module>\u001b[1;34m\u001b[0m\n\u001b[0;32m      1\u001b[0m \u001b[1;32mfrom\u001b[0m \u001b[0mShapeModule\u001b[0m \u001b[1;32mimport\u001b[0m \u001b[0msetFunc\u001b[0m\u001b[1;33m\u001b[0m\u001b[1;33m\u001b[0m\u001b[0m\n\u001b[0;32m      2\u001b[0m \u001b[1;32mfrom\u001b[0m \u001b[0mWaveModule\u001b[0m \u001b[1;32mimport\u001b[0m \u001b[0mWave\u001b[0m\u001b[1;33m,\u001b[0m \u001b[0mWaveform\u001b[0m\u001b[1;33m,\u001b[0m\u001b[0mQubitChannel\u001b[0m\u001b[1;33m\u001b[0m\u001b[1;33m\u001b[0m\u001b[0m\n\u001b[1;32m----> 3\u001b[1;33m \u001b[1;32mfrom\u001b[0m \u001b[0minstruments\u001b[0m\u001b[1;33m.\u001b[0m\u001b[0mdrivers\u001b[0m\u001b[1;33m.\u001b[0m\u001b[0mTektronix\u001b[0m\u001b[1;33m.\u001b[0m\u001b[0mTektronix_AWG\u001b[0m \u001b[1;32mimport\u001b[0m \u001b[0mAWG5208\u001b[0m\u001b[1;33m\u001b[0m\u001b[1;33m\u001b[0m\u001b[0m\n\u001b[0m",
      "\u001b[1;31mModuleNotFoundError\u001b[0m: No module named 'instruments'"
     ]
    }
   ],
   "source": [
    "import sys\n",
    "sys.path.append(\"../\")\n",
    "from ShapeModule import setFunc\n",
    "from WaveModule import Wave, Waveform,QubitChannel\n",
    "from instruments.drivers.Tektronix.Tektronix_AWG import AWG5208"
   ]
  },
  {
   "cell_type": "code",
   "execution_count": null,
   "metadata": {},
   "outputs": [],
   "source": [
    "# connect to AWG\n",
    "awg = AWG5208(\n",
    "    inst_name='AWG5208',\n",
    "    inst_address='TCPIP0::192.168.10.42::inst0::INSTR')\n",
    "\n",
    "# help(awg)\n",
    "\n",
    "# set sampling rate and reference clock\n",
    "awg.set_sample_rate(sample_rate=1.0E9)\n",
    "awg.set_extref_source(ref_freq=10E6)"
   ]
  },
  {
   "cell_type": "code",
   "execution_count": null,
   "metadata": {},
   "outputs": [],
   "source": [
    "exp_peak = 5e-6\n",
    "tau = 280e-9\n",
    "flat = 900e-9\n",
    "a = Wave(setFunc('exp_rising', {'peak_x': exp_peak,'tau':280e-9}, 10e-6))\n",
    "b = Wave(setFunc('square', {'start': exp_peak,'flat':flat}, 20e-6))\n",
    "marker = Wave(setFunc('square', {'start': 10e-9,'flat':10e-9}, 10e-6))"
   ]
  },
  {
   "cell_type": "code",
   "execution_count": null,
   "metadata": {},
   "outputs": [],
   "source": [
    "a.plot()\n",
    "b.plot()\n",
    "marker.plot()"
   ]
  },
  {
   "cell_type": "code",
   "execution_count": null,
   "metadata": {},
   "outputs": [],
   "source": [
    "c = QubitChannel(~a,~b,~marker)"
   ]
  },
  {
   "cell_type": "code",
   "execution_count": null,
   "metadata": {},
   "outputs": [],
   "source": [
    "c.plot()"
   ]
  },
  {
   "cell_type": "code",
   "execution_count": null,
   "metadata": {},
   "outputs": [],
   "source": [
    "for i in c.y:\n",
    "    print(i)"
   ]
  },
  {
   "cell_type": "code",
   "execution_count": null,
   "metadata": {},
   "outputs": [],
   "source": [
    "awg.set_wfm(wfm_name= 'rising_test',\n",
    "            wfm = c.y[0],\n",
    "            mkr1= marker.y\n",
    "           )\n",
    "\n",
    "awg.set_wfm(wfm_name= 'square_test',\n",
    "            wfm = c.y[1],\n",
    "           )\n",
    "awg.upload_wfm()"
   ]
  },
  {
   "cell_type": "code",
   "execution_count": null,
   "metadata": {},
   "outputs": [],
   "source": [
    "awg.assign_ch(1,'rising_test')\n",
    "awg.assign_ch(2,'square_test')"
   ]
  },
  {
   "cell_type": "code",
   "execution_count": null,
   "metadata": {},
   "outputs": [],
   "source": [
    "print(awg)"
   ]
  }
 ],
 "metadata": {
  "kernelspec": {
   "display_name": "Python 3",
   "language": "python",
   "name": "python3"
  },
  "language_info": {
   "codemirror_mode": {
    "name": "ipython",
    "version": 3
   },
   "file_extension": ".py",
   "mimetype": "text/x-python",
   "name": "python",
   "nbconvert_exporter": "python",
   "pygments_lexer": "ipython3",
   "version": "3.8.10"
  }
 },
 "nbformat": 4,
 "nbformat_minor": 4
}
