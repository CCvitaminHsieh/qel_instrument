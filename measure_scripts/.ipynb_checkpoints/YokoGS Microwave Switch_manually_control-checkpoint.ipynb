{
 "cells": [
  {
   "cell_type": "code",
   "execution_count": 1,
   "id": "1400fe30",
   "metadata": {},
   "outputs": [],
   "source": [
    "import sys\n",
    "sys.path.append('../')\n",
    "from time import sleep\n",
    "from instruments.core.jsonIO import jsonFormat\n",
    "from instruments.drivers.Yokogawa.YokoGS import YokoGS200"
   ]
  },
  {
   "cell_type": "code",
   "execution_count": 2,
   "id": "5b036c3b",
   "metadata": {},
   "outputs": [
    {
     "name": "stdout",
     "output_type": "stream",
     "text": [
      "Connect Instrument:\n",
      "instrument: YokoGS\n",
      "statement: YOKOGAWA,GS210,91WB18861,2.02\n",
      "{\n",
      "    \"name\": \"YokoGS\",\n",
      "    \"inst_connect\": true,\n",
      "    \"interface\": \"USB0\",\n",
      "    \"address\": \"USB0::0x0B21::0x0039::91WB18861::INSTR\",\n",
      "    \"r_terminate\": \"\\n\",\n",
      "    \"w_terminate\": null,\n",
      "    \"timeout\": 5,\n",
      "    \"extension\": {\n",
      "        \"set_dc_mode\": {\n",
      "            \"dc_mode\": \"\"\n",
      "        },\n",
      "        \"set_dc_output\": {\n",
      "            \"dc_output\": false\n",
      "        },\n",
      "        \"set_range_limit\": {\n",
      "            \"dc_range_limit\": \"\"\n",
      "        },\n",
      "        \"execute_microwave_switch\": {\n",
      "            \"sweep_time\": 0.0,\n",
      "            \"interval_time\": 0.0,\n",
      "            \"init_lower\": 0.0,\n",
      "            \"init_higher\": 0.0\n",
      "        }\n",
      "    }\n",
      "}\n"
     ]
    }
   ],
   "source": [
    "yokogs = YokoGS200(\n",
    "    inst_name='YokoGS',\n",
    "    inst_address='USB0::0x0B21::0x0039::91WB18861::INSTR',\n",
    "    dc_mode='VOLTAGE')\n",
    "print(jsonFormat(yokogs.get_properties))"
   ]
  },
  {
   "cell_type": "code",
   "execution_count": 3,
   "id": "2e84446a",
   "metadata": {},
   "outputs": [
    {
     "name": "stdout",
     "output_type": "stream",
     "text": [
      "\n",
      "rangeMode: \"1 V\"\n",
      "Setting successfully!\n"
     ]
    }
   ],
   "source": [
    "yokogs.set_dc_mode()\n",
    "yokogs.set_range_limit('1 V')\n",
    "yokogs.set_dc_value(0)\n",
    "yokogs.set_dc_output(0)"
   ]
  },
  {
   "cell_type": "code",
   "execution_count": 4,
   "id": "498da5e5",
   "metadata": {},
   "outputs": [
    {
     "name": "stdout",
     "output_type": "stream",
     "text": [
      "\n",
      "Start microwaveSwitch.\n",
      "Finish microwaveSwitch.\n"
     ]
    }
   ],
   "source": [
    "\"\"\"\n",
    "dc_state: voltage\n",
    "rangelimit: 1v\n",
    "sweep_time: 0.2\n",
    "interval_time: 1.5\n",
    "dip: 0.0\n",
    "peak: -0.65\n",
    "\"\"\"\n",
    "sleep(1.5)\n",
    "yokogs.execute_microwave_switch(0.2, 1.5, 0.0, -0.65)"
   ]
  },
  {
   "cell_type": "code",
   "execution_count": 5,
   "id": "ad385d8f",
   "metadata": {},
   "outputs": [
    {
     "name": "stdout",
     "output_type": "stream",
     "text": [
      "{\n",
      "    \"name\": \"YokoGS\",\n",
      "    \"inst_connect\": true,\n",
      "    \"interface\": \"USB0\",\n",
      "    \"address\": \"USB0::0x0B21::0x0039::91WB18861::INSTR\",\n",
      "    \"r_terminate\": \"\\n\",\n",
      "    \"w_terminate\": null,\n",
      "    \"timeout\": 5,\n",
      "    \"extension\": {\n",
      "        \"set_dc_mode\": {\n",
      "            \"dc_mode\": \"VOLTAGE\"\n",
      "        },\n",
      "        \"set_dc_output\": {\n",
      "            \"dc_output\": 1\n",
      "        },\n",
      "        \"set_range_limit\": {\n",
      "            \"dc_range_limit\": \"1 V\"\n",
      "        },\n",
      "        \"execute_microwave_switch\": {\n",
      "            \"sweep_time\": 0.2,\n",
      "            \"interval_time\": 1.5,\n",
      "            \"init_lower\": 0.0,\n",
      "            \"init_higher\": -0.65\n",
      "        },\n",
      "        \"dc_value\": 0\n",
      "    }\n",
      "}\n"
     ]
    }
   ],
   "source": [
    "print(jsonFormat(yokogs.get_properties))"
   ]
  },
  {
   "cell_type": "code",
   "execution_count": 6,
   "id": "6cf205e5",
   "metadata": {},
   "outputs": [
    {
     "name": "stdout",
     "output_type": "stream",
     "text": [
      "Generate this config to the following path\n",
      "C:/Users/QEL/OneDrive - 清華大學/桌面/qel_instrument/instruments/inst_config/YokoGSV2.json\n"
     ]
    }
   ],
   "source": [
    "yokogs.save_inst_cfg()"
   ]
  },
  {
   "cell_type": "code",
   "execution_count": 7,
   "id": "e83a02dc",
   "metadata": {},
   "outputs": [],
   "source": [
    "# yokoinstance = yokogs.DEVICES['USB0'][0]"
   ]
  },
  {
   "cell_type": "code",
   "execution_count": 8,
   "id": "0fc3ef74",
   "metadata": {},
   "outputs": [],
   "source": [
    "# print(jsonFormat(yokogs.get_properties))"
   ]
  },
  {
   "cell_type": "code",
   "execution_count": null,
   "id": "67d1c791",
   "metadata": {},
   "outputs": [],
   "source": []
  }
 ],
 "metadata": {
  "kernelspec": {
   "display_name": "Python 3",
   "language": "python",
   "name": "python3"
  },
  "language_info": {
   "codemirror_mode": {
    "name": "ipython",
    "version": 3
   },
   "file_extension": ".py",
   "mimetype": "text/x-python",
   "name": "python",
   "nbconvert_exporter": "python",
   "pygments_lexer": "ipython3",
   "version": "3.8.8"
  }
 },
 "nbformat": 4,
 "nbformat_minor": 5
}
